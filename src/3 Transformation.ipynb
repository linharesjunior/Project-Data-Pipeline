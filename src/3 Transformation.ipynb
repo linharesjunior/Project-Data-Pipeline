{
 "cells": [
  {
   "cell_type": "code",
   "execution_count": 1,
   "id": "0eeae2d2",
   "metadata": {},
   "outputs": [],
   "source": [
    "import pandas as pd\n",
    "import numpy as np\n",
    "import matplotlib.pyplot as plt\n",
    "import seaborn as sns"
   ]
  },
  {
   "cell_type": "code",
   "execution_count": 2,
   "id": "c3ab4cf0",
   "metadata": {},
   "outputs": [],
   "source": [
    "rent = pd.read_csv('/Users/juniorlinhares/Documents/projects/Project-Data-Pipeline/data/Barcelona_rent_price.csv')"
   ]
  },
  {
   "cell_type": "code",
   "execution_count": 3,
   "id": "07f4e027",
   "metadata": {},
   "outputs": [],
   "source": [
    "df = pd.read_csv('/Users/juniorlinhares/Documents/projects/Project-Data-Pipeline/data/average_wage_spain.csv')"
   ]
  },
  {
   "cell_type": "code",
   "execution_count": 4,
   "id": "30ef7cd2",
   "metadata": {},
   "outputs": [],
   "source": [
    "def create_dataframe(scraped_data):\n",
    "    df = pd.DataFrame(scraped_data, columns=[\"Year\", \"Average Wage in Spain\"])\n",
    "    return df"
   ]
  },
  {
   "cell_type": "code",
   "execution_count": null,
   "id": "850b46eb",
   "metadata": {},
   "outputs": [],
   "source": []
  },
  {
   "cell_type": "code",
   "execution_count": null,
   "id": "b1241809",
   "metadata": {},
   "outputs": [],
   "source": []
  }
 ],
 "metadata": {
  "kernelspec": {
   "display_name": "Python 3 (ipykernel)",
   "language": "python",
   "name": "python3"
  },
  "language_info": {
   "codemirror_mode": {
    "name": "ipython",
    "version": 3
   },
   "file_extension": ".py",
   "mimetype": "text/x-python",
   "name": "python",
   "nbconvert_exporter": "python",
   "pygments_lexer": "ipython3",
   "version": "3.11.5"
  }
 },
 "nbformat": 4,
 "nbformat_minor": 5
}
